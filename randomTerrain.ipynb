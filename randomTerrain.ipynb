{
 "cells": [
  {
   "cell_type": "code",
   "execution_count": 1,
   "metadata": {
    "collapsed": false
   },
   "outputs": [],
   "source": [
    "#Setting up enviroment\n",
    "from sklearn.datasets import load_boston\n",
    "from sklearn.linear_model import LinearRegression\n",
    "from sklearn.pipeline import Pipeline\n",
    "from sklearn.externals.six import StringIO\n",
    "from sklearn.feature_extraction import DictVectorizer\n",
    "from sklearn import preprocessing\n",
    "from sklearn.metrics import mean_absolute_error\n",
    "from sklearn import cross_validation\n",
    "from sklearn.cross_validation import train_test_split\n",
    "from sklearn.grid_search import GridSearchCV\n",
    "from sklearn import tree\n",
    "from sklearn.ensemble import RandomForestRegressor\n",
    "from IPython.display import Image  \n",
    "from ggplot import *\n",
    "from mpl_toolkits.mplot3d import Axes3D\n",
    "from pandas import *\n",
    "import seaborn as sns\n",
    "import pandas as pd # conventional alias\n",
    "import matplotlib.pyplot as plt\n",
    "import math\n",
    "import random\n",
    "import numpy as np\n",
    "import os\n",
    "import pydot\n",
    "import matplotlib.pyplot as plt\n",
    "# %matplotlib inline\n",
    "\n",
    "import pickle\n",
    "\n"
   ]
  },
  {
   "cell_type": "code",
   "execution_count": 7,
   "metadata": {
    "collapsed": false
   },
   "outputs": [
    {
     "name": "stdout",
     "output_type": "stream",
     "text": [
      "[ 67.75]\n"
     ]
    }
   ],
   "source": [
    "mydata={\n",
    "\t\"data\": [0.844122741153, 0.933946174198, 0.078869200041, 0.996960624079, 0.0, 1.0, 0.0, 1.0, 0.0, 0.0, 0.0, 1.0, 0.0, 0.0, 0.0, 0.0, 1.0, 0.0]\n",
    "}\n",
    "lr_model_pkl = pickle.load(open('test.p','rb'))\n",
    "risk = lr_model_pkl.predict([mydata[\"data\"],])\n",
    "print(risk)"
   ]
  },
  {
   "cell_type": "code",
   "execution_count": 45,
   "metadata": {
    "collapsed": false
   },
   "outputs": [
    {
     "data": {
      "image/png": "[encoded data removed]",
      "text/plain": [
       "<matplotlib.figure.Figure at 0x7f27c7e71d68>"
      ]
     },
     "metadata": {},
     "output_type": "display_data"
    },
    {
     "name": "stdout",
     "output_type": "stream",
     "text": [
      "[[0.24164797152934003, 0.40796307501799145, 0.7569085971816921, 0.9397496060918966], [0.07957036625320035, 0.8762803905981484, 0.8233656183944492, 0.09371274088815396], [0.8071317151408735, 0.19273643197620394, 0.9053813424573012, 0.3310593456354717], [0.5802270081193901, 0.8294399729405534, 0.5216720290737407, 0.4176443779301956]]\n"
     ]
    },
    {
     "ename": "TypeError",
     "evalue": "'module' object is not callable",
     "output_type": "error",
     "traceback": [
      "\u001b[0;31m---------------------------------------------------------------------------\u001b[0m",
      "\u001b[0;31mTypeError\u001b[0m                                 Traceback (most recent call last)",
      "\u001b[0;32m<ipython-input-45-02070f1745bd>\u001b[0m in \u001b[0;36m<module>\u001b[0;34m()\u001b[0m\n\u001b[1;32m     19\u001b[0m \u001b[0;34m\u001b[0m\u001b[0m\n\u001b[1;32m     20\u001b[0m \u001b[0mprint\u001b[0m\u001b[0;34m(\u001b[0m\u001b[0ma\u001b[0m\u001b[0;34m)\u001b[0m\u001b[0;34m\u001b[0m\u001b[0m\n\u001b[0;32m---> 21\u001b[0;31m \u001b[0minfo\u001b[0m\u001b[0;34m(\u001b[0m\u001b[0mround\u001b[0m\u001b[0;34m)\u001b[0m\u001b[0;34m\u001b[0m\u001b[0m\n\u001b[0m",
      "\u001b[0;31mTypeError\u001b[0m: 'module' object is not callable"
     ]
    }
   ],
   "source": [
    "# 4x4 plot\n",
    "width=4\n",
    "height=4\n",
    "a = [[0]*width for x in range(height)]\n",
    "for i in range(height):\n",
    "    for j in range(width):\n",
    "        a[i][j]=random.random()\n",
    "# plot        \n",
    "aim = plt.imshow(a,interpolation='nearest',)\n",
    "ax = plt.gca()\n",
    "ax.grid(False)\n",
    "plt.show(aim)\n",
    "\n",
    "\n",
    "# scale up\n",
    "# width2 = 4\n",
    "# height2 = 4\n",
    "# b = [[val]*width for x in range(height)]\n",
    "\n",
    "print(a)\n",
    "info(round)\n"
   ]
  }
 ],
 "metadata": {
  "anaconda-cloud": {},
  "kernelspec": {
   "display_name": "Python [py35]",
   "language": "python",
   "name": "Python [py35]"
  },
  "language_info": {
   "codemirror_mode": {
    "name": "ipython",
    "version": 3
   },
   "file_extension": ".py",
   "mimetype": "text/x-python",
   "name": "python",
   "nbconvert_exporter": "python",
   "pygments_lexer": "ipython3",
   "version": "3.5.2"
  }
 },
 "nbformat": 4,
 "nbformat_minor": 0
}
